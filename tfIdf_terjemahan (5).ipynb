{
  "nbformat": 4,
  "nbformat_minor": 0,
  "metadata": {
    "colab": {
      "name": "tfIdf_terjemahan.ipynb",
      "provenance": [],
      "collapsed_sections": [],
      "toc_visible": true
    },
    "kernelspec": {
      "name": "python3",
      "display_name": "Python 3"
    }
  },
  "cells": [
    {
      "cell_type": "code",
      "metadata": {
        "id": "9nuP4w6HKgEl",
        "colab_type": "code",
        "colab": {
          "base_uri": "https://localhost:8080/",
          "height": 415
        },
        "outputId": "d882d8a2-5214-4378-b3cd-ea8fedec696b"
      },
      "source": [
        "import pandas as pds\n",
        "import numpy as np\n",
        "from sklearn.metrics.pairwise import cosine_similarity\n",
        "from operator import itemgetter\n",
        "\n",
        "dataset = pds.read_csv('dataset_yasin.csv')\n",
        "dataset"
      ],
      "execution_count": 1,
      "outputs": [
        {
          "output_type": "execute_result",
          "data": {
            "text/html": [
              "<div>\n",
              "<style scoped>\n",
              "    .dataframe tbody tr th:only-of-type {\n",
              "        vertical-align: middle;\n",
              "    }\n",
              "\n",
              "    .dataframe tbody tr th {\n",
              "        vertical-align: top;\n",
              "    }\n",
              "\n",
              "    .dataframe thead th {\n",
              "        text-align: right;\n",
              "    }\n",
              "</style>\n",
              "<table border=\"1\" class=\"dataframe\">\n",
              "  <thead>\n",
              "    <tr style=\"text-align: right;\">\n",
              "      <th></th>\n",
              "      <th>Data Set Yasin</th>\n",
              "    </tr>\n",
              "  </thead>\n",
              "  <tbody>\n",
              "    <tr>\n",
              "      <th>0</th>\n",
              "      <td>Yaa siin</td>\n",
              "    </tr>\n",
              "    <tr>\n",
              "      <th>1</th>\n",
              "      <td>Demi Al Quraan yang penuh hikmah,</td>\n",
              "    </tr>\n",
              "    <tr>\n",
              "      <th>2</th>\n",
              "      <td>Sesungguhnya kamu salah seorang dari rasul-rasul,</td>\n",
              "    </tr>\n",
              "    <tr>\n",
              "      <th>3</th>\n",
              "      <td>(yang berada) diatas jalan yang lurus,</td>\n",
              "    </tr>\n",
              "    <tr>\n",
              "      <th>4</th>\n",
              "      <td>(sebagai wahyu) yang diturunkan oleh Yang Maha...</td>\n",
              "    </tr>\n",
              "    <tr>\n",
              "      <th>...</th>\n",
              "      <td>...</td>\n",
              "    </tr>\n",
              "    <tr>\n",
              "      <th>78</th>\n",
              "      <td>Katakanlah: \"Ia akan dihidupkan oleh Tuhan yan...</td>\n",
              "    </tr>\n",
              "    <tr>\n",
              "      <th>79</th>\n",
              "      <td>yaitu Tuhan yang menjadikan untukmu api dari k...</td>\n",
              "    </tr>\n",
              "    <tr>\n",
              "      <th>80</th>\n",
              "      <td>Dan tidaklah Tuhan yang menciptakan langit dan...</td>\n",
              "    </tr>\n",
              "    <tr>\n",
              "      <th>81</th>\n",
              "      <td>Sesungguhnya keadaan-Nya apabila Dia menghenda...</td>\n",
              "    </tr>\n",
              "    <tr>\n",
              "      <th>82</th>\n",
              "      <td>Maka Maha Suci (Allah) yang di tangan-Nya keku...</td>\n",
              "    </tr>\n",
              "  </tbody>\n",
              "</table>\n",
              "<p>83 rows × 1 columns</p>\n",
              "</div>"
            ],
            "text/plain": [
              "                                       Data Set Yasin\n",
              "0                                            Yaa siin\n",
              "1                   Demi Al Quraan yang penuh hikmah,\n",
              "2   Sesungguhnya kamu salah seorang dari rasul-rasul,\n",
              "3              (yang berada) diatas jalan yang lurus,\n",
              "4   (sebagai wahyu) yang diturunkan oleh Yang Maha...\n",
              "..                                                ...\n",
              "78  Katakanlah: \"Ia akan dihidupkan oleh Tuhan yan...\n",
              "79  yaitu Tuhan yang menjadikan untukmu api dari k...\n",
              "80  Dan tidaklah Tuhan yang menciptakan langit dan...\n",
              "81  Sesungguhnya keadaan-Nya apabila Dia menghenda...\n",
              "82  Maka Maha Suci (Allah) yang di tangan-Nya keku...\n",
              "\n",
              "[83 rows x 1 columns]"
            ]
          },
          "metadata": {
            "tags": []
          },
          "execution_count": 1
        }
      ]
    },
    {
      "cell_type": "code",
      "metadata": {
        "id": "ZH1FGmq9Umbh",
        "colab_type": "code",
        "colab": {}
      },
      "source": [
        "#to lower case\n",
        "data = dataset[\"Data Set Yasin\"].astype(str).str.lower().str.replace(\",\",\"\").str.replace(\".\",\"\").str.replace(\"(\",\"\").str.replace(\")\",\"\").str.replace(\":\",\"\").str.replace(\"\\\"\",\"\")"
      ],
      "execution_count": 2,
      "outputs": []
    },
    {
      "cell_type": "code",
      "metadata": {
        "id": "gzjLodBHU5rj",
        "colab_type": "code",
        "colab": {
          "base_uri": "https://localhost:8080/",
          "height": 159
        },
        "outputId": "b7ccc240-aa8d-4573-e6af-304153600a16"
      },
      "source": [
        "!pip install Sastrawi #untuk mengubah menjadi bentuk dasar && memisahkan teks\n",
        "import nltk\n",
        "nltk.download('punkt')\n",
        "from Sastrawi.StopWordRemover.StopWordRemoverFactory import StopWordRemoverFactory\n",
        "from Sastrawi.Stemmer.StemmerFactory import StemmerFactory\n",
        "import numpy as np\n",
        "from math import log\n",
        "carikata = 'Maha suci'\n",
        "\n",
        "listkata = []\n",
        "i = 1\n",
        "for d in data:\n",
        "    srfactory = StopWordRemoverFactory()\n",
        "    stopword = srfactory.create_stop_word_remover()\n",
        "    token = nltk.tokenize.word_tokenize(stopword.remove(str(d)))\n",
        "    srfactory = StemmerFactory()\n",
        "    stemmer = srfactory.create_stemmer()\n",
        "    katadasar = stemmer.stem(str(token))\n",
        "    listkata.append(katadasar)"
      ],
      "execution_count": 3,
      "outputs": [
        {
          "output_type": "stream",
          "text": [
            "Collecting Sastrawi\n",
            "\u001b[?25l  Downloading https://files.pythonhosted.org/packages/6f/4b/bab676953da3103003730b8fcdfadbdd20f333d4add10af949dd5c51e6ed/Sastrawi-1.0.1-py2.py3-none-any.whl (209kB)\n",
            "\u001b[K     |████████████████████████████████| 215kB 2.7MB/s \n",
            "\u001b[?25hInstalling collected packages: Sastrawi\n",
            "Successfully installed Sastrawi-1.0.1\n",
            "[nltk_data] Downloading package punkt to /root/nltk_data...\n",
            "[nltk_data]   Unzipping tokenizers/punkt.zip.\n"
          ],
          "name": "stdout"
        }
      ]
    },
    {
      "cell_type": "code",
      "metadata": {
        "id": "HZV57HpKV8zi",
        "colab_type": "code",
        "colab": {
          "base_uri": "https://localhost:8080/",
          "height": 72
        },
        "outputId": "12172f61-9a77-4ecf-8b64-d7e1045e1a7b"
      },
      "source": [
        "N = data.shape[0]\n",
        "hasilidf = pds.DataFrame(columns=[\"kata\",\"idf\"])\n",
        "for item in carikata.split():\n",
        "    dft = np.sum(data.str.contains(item)) # mengecek substring\n",
        "    idft = log((dft+1),10)\n",
        "    hasilidf = hasilidf.append(pds.Series([item, idft], index=['kata','idf']),ignore_index=True)\n",
        "\n",
        "wordList = data.str.split(' ')\n",
        "maxFt = [len(s)  for s in wordList] #menghitung jumlah data\n",
        "hasiltf = pds.DataFrame()\n",
        "for item in carikata.split():\n",
        "    ft = np.add([s.count(item) for s in wordList], 0)\n",
        "    ftd = 1 + np.log10(ft)# mengembalikan nilai basis 10 pada log\n",
        "    hasiltf = hasiltf.append(pds.Series(ftd), ignore_index=True)\n",
        "    hasiltf = hasiltf.replace(-np.inf, 0)\n",
        "\n",
        "nilaiakhir = pds.DataFrame()\n",
        "for i in hasiltf:\n",
        "    tfidf = hasiltf[i] * hasilidf['idf']\n",
        "    nilaiakhir = nilaiakhir.append(pds.Series(tfidf), ignore_index=True)"
      ],
      "execution_count": 4,
      "outputs": [
        {
          "output_type": "stream",
          "text": [
            "/usr/local/lib/python3.6/dist-packages/ipykernel_launcher.py:13: RuntimeWarning: divide by zero encountered in log10\n",
            "  del sys.path[0]\n"
          ],
          "name": "stderr"
        }
      ]
    },
    {
      "cell_type": "code",
      "metadata": {
        "id": "iQ8Ypw3pdpse",
        "colab_type": "code",
        "colab": {
          "base_uri": "https://localhost:8080/",
          "height": 110
        },
        "outputId": "87a3ba31-72fa-4720-a4a4-25cb6276c7fc"
      },
      "source": [
        "hasilidf"
      ],
      "execution_count": 5,
      "outputs": [
        {
          "output_type": "execute_result",
          "data": {
            "text/html": [
              "<div>\n",
              "<style scoped>\n",
              "    .dataframe tbody tr th:only-of-type {\n",
              "        vertical-align: middle;\n",
              "    }\n",
              "\n",
              "    .dataframe tbody tr th {\n",
              "        vertical-align: top;\n",
              "    }\n",
              "\n",
              "    .dataframe thead th {\n",
              "        text-align: right;\n",
              "    }\n",
              "</style>\n",
              "<table border=\"1\" class=\"dataframe\">\n",
              "  <thead>\n",
              "    <tr style=\"text-align: right;\">\n",
              "      <th></th>\n",
              "      <th>kata</th>\n",
              "      <th>idf</th>\n",
              "    </tr>\n",
              "  </thead>\n",
              "  <tbody>\n",
              "    <tr>\n",
              "      <th>0</th>\n",
              "      <td>Maha</td>\n",
              "      <td>0.000000</td>\n",
              "    </tr>\n",
              "    <tr>\n",
              "      <th>1</th>\n",
              "      <td>suci</td>\n",
              "      <td>0.477121</td>\n",
              "    </tr>\n",
              "  </tbody>\n",
              "</table>\n",
              "</div>"
            ],
            "text/plain": [
              "   kata       idf\n",
              "0  Maha  0.000000\n",
              "1  suci  0.477121"
            ]
          },
          "metadata": {
            "tags": []
          },
          "execution_count": 5
        }
      ]
    },
    {
      "cell_type": "code",
      "metadata": {
        "id": "WvEHwLm3V_u0",
        "colab_type": "code",
        "colab": {
          "base_uri": "https://localhost:8080/",
          "height": 415
        },
        "outputId": "66746913-8ead-4b6c-f64b-a6ef73847557"
      },
      "source": [
        "nilaiakhir"
      ],
      "execution_count": 6,
      "outputs": [
        {
          "output_type": "execute_result",
          "data": {
            "text/html": [
              "<div>\n",
              "<style scoped>\n",
              "    .dataframe tbody tr th:only-of-type {\n",
              "        vertical-align: middle;\n",
              "    }\n",
              "\n",
              "    .dataframe tbody tr th {\n",
              "        vertical-align: top;\n",
              "    }\n",
              "\n",
              "    .dataframe thead th {\n",
              "        text-align: right;\n",
              "    }\n",
              "</style>\n",
              "<table border=\"1\" class=\"dataframe\">\n",
              "  <thead>\n",
              "    <tr style=\"text-align: right;\">\n",
              "      <th></th>\n",
              "      <th>0</th>\n",
              "      <th>1</th>\n",
              "    </tr>\n",
              "  </thead>\n",
              "  <tbody>\n",
              "    <tr>\n",
              "      <th>0</th>\n",
              "      <td>0.0</td>\n",
              "      <td>0.000000</td>\n",
              "    </tr>\n",
              "    <tr>\n",
              "      <th>1</th>\n",
              "      <td>0.0</td>\n",
              "      <td>0.000000</td>\n",
              "    </tr>\n",
              "    <tr>\n",
              "      <th>2</th>\n",
              "      <td>0.0</td>\n",
              "      <td>0.000000</td>\n",
              "    </tr>\n",
              "    <tr>\n",
              "      <th>3</th>\n",
              "      <td>0.0</td>\n",
              "      <td>0.000000</td>\n",
              "    </tr>\n",
              "    <tr>\n",
              "      <th>4</th>\n",
              "      <td>0.0</td>\n",
              "      <td>0.000000</td>\n",
              "    </tr>\n",
              "    <tr>\n",
              "      <th>...</th>\n",
              "      <td>...</td>\n",
              "      <td>...</td>\n",
              "    </tr>\n",
              "    <tr>\n",
              "      <th>78</th>\n",
              "      <td>0.0</td>\n",
              "      <td>0.000000</td>\n",
              "    </tr>\n",
              "    <tr>\n",
              "      <th>79</th>\n",
              "      <td>0.0</td>\n",
              "      <td>0.000000</td>\n",
              "    </tr>\n",
              "    <tr>\n",
              "      <th>80</th>\n",
              "      <td>0.0</td>\n",
              "      <td>0.000000</td>\n",
              "    </tr>\n",
              "    <tr>\n",
              "      <th>81</th>\n",
              "      <td>0.0</td>\n",
              "      <td>0.000000</td>\n",
              "    </tr>\n",
              "    <tr>\n",
              "      <th>82</th>\n",
              "      <td>0.0</td>\n",
              "      <td>0.477121</td>\n",
              "    </tr>\n",
              "  </tbody>\n",
              "</table>\n",
              "<p>83 rows × 2 columns</p>\n",
              "</div>"
            ],
            "text/plain": [
              "      0         1\n",
              "0   0.0  0.000000\n",
              "1   0.0  0.000000\n",
              "2   0.0  0.000000\n",
              "3   0.0  0.000000\n",
              "4   0.0  0.000000\n",
              "..  ...       ...\n",
              "78  0.0  0.000000\n",
              "79  0.0  0.000000\n",
              "80  0.0  0.000000\n",
              "81  0.0  0.000000\n",
              "82  0.0  0.477121\n",
              "\n",
              "[83 rows x 2 columns]"
            ]
          },
          "metadata": {
            "tags": []
          },
          "execution_count": 6
        }
      ]
    },
    {
      "cell_type": "code",
      "metadata": {
        "id": "W_5A2dyzdJay",
        "colab_type": "code",
        "colab": {
          "base_uri": "https://localhost:8080/",
          "height": 35
        },
        "outputId": "f367330d-5e18-437b-ac04-46173b4edf91"
      },
      "source": [
        "N"
      ],
      "execution_count": 7,
      "outputs": [
        {
          "output_type": "execute_result",
          "data": {
            "text/plain": [
              "83"
            ]
          },
          "metadata": {
            "tags": []
          },
          "execution_count": 7
        }
      ]
    },
    {
      "cell_type": "code",
      "metadata": {
        "id": "NKTPu7Isac5a",
        "colab_type": "code",
        "colab": {}
      },
      "source": [
        "temp = np.transpose(nilaiakhir)\n",
        "hasilJumlah = pds.DataFrame()\n",
        "for i in range(N):\n",
        "  jum = 0\n",
        "  \n",
        "  for j in range(dft):\n",
        "    jum=jum+temp[i][j]\n",
        "\n",
        "  hasilJumlah = hasilJumlah.append(pds.Series(jum), ignore_index=True)"
      ],
      "execution_count": 8,
      "outputs": []
    },
    {
      "cell_type": "code",
      "metadata": {
        "id": "4kCZM6ONg1N2",
        "colab_type": "code",
        "colab": {
          "base_uri": "https://localhost:8080/",
          "height": 415
        },
        "outputId": "85169a77-dfb9-456b-dcf4-dca4e29547dc"
      },
      "source": [
        "hasilJumlah.index = nilaiakhir.index+1\n",
        "hasilJumlah"
      ],
      "execution_count": 9,
      "outputs": [
        {
          "output_type": "execute_result",
          "data": {
            "text/html": [
              "<div>\n",
              "<style scoped>\n",
              "    .dataframe tbody tr th:only-of-type {\n",
              "        vertical-align: middle;\n",
              "    }\n",
              "\n",
              "    .dataframe tbody tr th {\n",
              "        vertical-align: top;\n",
              "    }\n",
              "\n",
              "    .dataframe thead th {\n",
              "        text-align: right;\n",
              "    }\n",
              "</style>\n",
              "<table border=\"1\" class=\"dataframe\">\n",
              "  <thead>\n",
              "    <tr style=\"text-align: right;\">\n",
              "      <th></th>\n",
              "      <th>0</th>\n",
              "    </tr>\n",
              "  </thead>\n",
              "  <tbody>\n",
              "    <tr>\n",
              "      <th>1</th>\n",
              "      <td>0.000000</td>\n",
              "    </tr>\n",
              "    <tr>\n",
              "      <th>2</th>\n",
              "      <td>0.000000</td>\n",
              "    </tr>\n",
              "    <tr>\n",
              "      <th>3</th>\n",
              "      <td>0.000000</td>\n",
              "    </tr>\n",
              "    <tr>\n",
              "      <th>4</th>\n",
              "      <td>0.000000</td>\n",
              "    </tr>\n",
              "    <tr>\n",
              "      <th>5</th>\n",
              "      <td>0.000000</td>\n",
              "    </tr>\n",
              "    <tr>\n",
              "      <th>...</th>\n",
              "      <td>...</td>\n",
              "    </tr>\n",
              "    <tr>\n",
              "      <th>79</th>\n",
              "      <td>0.000000</td>\n",
              "    </tr>\n",
              "    <tr>\n",
              "      <th>80</th>\n",
              "      <td>0.000000</td>\n",
              "    </tr>\n",
              "    <tr>\n",
              "      <th>81</th>\n",
              "      <td>0.000000</td>\n",
              "    </tr>\n",
              "    <tr>\n",
              "      <th>82</th>\n",
              "      <td>0.000000</td>\n",
              "    </tr>\n",
              "    <tr>\n",
              "      <th>83</th>\n",
              "      <td>0.477121</td>\n",
              "    </tr>\n",
              "  </tbody>\n",
              "</table>\n",
              "<p>83 rows × 1 columns</p>\n",
              "</div>"
            ],
            "text/plain": [
              "           0\n",
              "1   0.000000\n",
              "2   0.000000\n",
              "3   0.000000\n",
              "4   0.000000\n",
              "5   0.000000\n",
              "..       ...\n",
              "79  0.000000\n",
              "80  0.000000\n",
              "81  0.000000\n",
              "82  0.000000\n",
              "83  0.477121\n",
              "\n",
              "[83 rows x 1 columns]"
            ]
          },
          "metadata": {
            "tags": []
          },
          "execution_count": 9
        }
      ]
    },
    {
      "cell_type": "code",
      "metadata": {
        "id": "WnyF7iNChxWV",
        "colab_type": "code",
        "colab": {
          "base_uri": "https://localhost:8080/",
          "height": 415
        },
        "outputId": "c007491c-b9cf-4144-d617-bc832b410a30"
      },
      "source": [
        "hasilJumlah.sort_values(by=[0], inplace=True, ascending=False)\n",
        "hasilJumlah"
      ],
      "execution_count": 10,
      "outputs": [
        {
          "output_type": "execute_result",
          "data": {
            "text/html": [
              "<div>\n",
              "<style scoped>\n",
              "    .dataframe tbody tr th:only-of-type {\n",
              "        vertical-align: middle;\n",
              "    }\n",
              "\n",
              "    .dataframe tbody tr th {\n",
              "        vertical-align: top;\n",
              "    }\n",
              "\n",
              "    .dataframe thead th {\n",
              "        text-align: right;\n",
              "    }\n",
              "</style>\n",
              "<table border=\"1\" class=\"dataframe\">\n",
              "  <thead>\n",
              "    <tr style=\"text-align: right;\">\n",
              "      <th></th>\n",
              "      <th>0</th>\n",
              "    </tr>\n",
              "  </thead>\n",
              "  <tbody>\n",
              "    <tr>\n",
              "      <th>83</th>\n",
              "      <td>0.477121</td>\n",
              "    </tr>\n",
              "    <tr>\n",
              "      <th>36</th>\n",
              "      <td>0.477121</td>\n",
              "    </tr>\n",
              "    <tr>\n",
              "      <th>53</th>\n",
              "      <td>0.000000</td>\n",
              "    </tr>\n",
              "    <tr>\n",
              "      <th>61</th>\n",
              "      <td>0.000000</td>\n",
              "    </tr>\n",
              "    <tr>\n",
              "      <th>60</th>\n",
              "      <td>0.000000</td>\n",
              "    </tr>\n",
              "    <tr>\n",
              "      <th>...</th>\n",
              "      <td>...</td>\n",
              "    </tr>\n",
              "    <tr>\n",
              "      <th>27</th>\n",
              "      <td>0.000000</td>\n",
              "    </tr>\n",
              "    <tr>\n",
              "      <th>26</th>\n",
              "      <td>0.000000</td>\n",
              "    </tr>\n",
              "    <tr>\n",
              "      <th>25</th>\n",
              "      <td>0.000000</td>\n",
              "    </tr>\n",
              "    <tr>\n",
              "      <th>24</th>\n",
              "      <td>0.000000</td>\n",
              "    </tr>\n",
              "    <tr>\n",
              "      <th>42</th>\n",
              "      <td>0.000000</td>\n",
              "    </tr>\n",
              "  </tbody>\n",
              "</table>\n",
              "<p>83 rows × 1 columns</p>\n",
              "</div>"
            ],
            "text/plain": [
              "           0\n",
              "83  0.477121\n",
              "36  0.477121\n",
              "53  0.000000\n",
              "61  0.000000\n",
              "60  0.000000\n",
              "..       ...\n",
              "27  0.000000\n",
              "26  0.000000\n",
              "25  0.000000\n",
              "24  0.000000\n",
              "42  0.000000\n",
              "\n",
              "[83 rows x 1 columns]"
            ]
          },
          "metadata": {
            "tags": []
          },
          "execution_count": 10
        }
      ]
    },
    {
      "cell_type": "code",
      "metadata": {
        "id": "9QC7Su7pxXyq",
        "colab_type": "code",
        "colab": {
          "base_uri": "https://localhost:8080/",
          "height": 35
        },
        "outputId": "ae9c897c-72b7-43db-dd53-cb15a512d66e"
      },
      "source": [
        "print(hasilJumlah.index.values[0])"
      ],
      "execution_count": 11,
      "outputs": [
        {
          "output_type": "stream",
          "text": [
            "83\n"
          ],
          "name": "stdout"
        }
      ]
    },
    {
      "cell_type": "code",
      "metadata": {
        "id": "9Fx_ICiIs9tw",
        "colab_type": "code",
        "colab": {
          "base_uri": "https://localhost:8080/",
          "height": 384
        },
        "outputId": "4b37213b-77e8-471b-d4f9-e80603864f48"
      },
      "source": [
        "for i in range (0,20):\n",
        "  print (str(i+1)+str(\".\")+dataset.iloc[int (hasilJumlah.index.values[i])-1,0]+str(\"        \")+(str(hasilJumlah.iloc[i,0])))"
      ],
      "execution_count": 12,
      "outputs": [
        {
          "output_type": "stream",
          "text": [
            "1.Maka Maha Suci (Allah) yang di tangan-Nya kekuasaaan atas segala sesuatu dan kepada-Nyalah kamu dikembalikan.        0.47712125471966244\n",
            "2.Maha Suci Tuhan yang telah menciptakan pasangan-pasangan semuanya, baik dari apa yang ditumbuhkan oleh bumi dan dari diri mereka maupun dari apa yang tidak mereka ketahui.        0.47712125471966244\n",
            "3.Tidak adalah teriakan itu selain sekali teriakan saja, maka tiba-tiba mereka semua dikumpulkan kepada Kami.        0.0\n",
            "4.dan hendaklah kamu menyembah-Ku. Inilah jalan yang lurus.        0.0\n",
            "5.Bukankah Aku telah memerintahkan kepadamu hai Bani Adam supaya kamu tidak menyembah syaitan? Sesungguhnya syaitan itu adalah musuh yang nyata bagi kamu\",        0.0\n",
            "6.Dan (dikatakan kepada orang-orang kafir): \"Berpisahlah kamu (dari orang-orang mu'min) pada hari ini, hai orang-orang yang berbuat jahat.        0.0\n",
            "7.(Kepada mereka dikatakan): \"Salam\", sebagai ucapan selamat dari Tuhan Yang Maha Penyayang.        0.0\n",
            "8.Di syurga itu mereka memperoleh buah-buahan dan memperoleh apa yang mereka minta.        0.0\n",
            "9.Mereka dan isteri-isteri mereka berada dalam tempat yang teduh, bertelekan di atas dipan-dipan.        0.0\n",
            "10.Sesungguhnya penghuni syurga pada hari itu bersenang-senang dalam kesibukan (mereka).        0.0\n",
            "11.Maka pada hari itu seseorang tidak akan dirugikan sedikitpun dan kamu tidak dibalasi, kecuali dengan apa yang telah kamu kerjakan.        0.0\n",
            "12.Mereka berkata: \"Aduhai celakalah kami! Siapakah yang membangkitkan kami dari tempat-tidur kami (kubur)?\". Inilah yang dijanjikan (Tuhan) Yang Maha Pemurah dan benarlah Rasul-rasul(Nya).        0.0\n",
            "13.Dan jika Kami menghendaki niscaya Kami tenggelamkan mereka, maka tiadalah bagi mereka penolong dan tidak pula mereka diselamatkan.        0.0\n",
            "14.Dan ditiuplah sangkalala, maka tiba-tiba mereka keluar dengan segera dari kuburnya (menuju) kepada Tuhan mereka.        0.0\n",
            "15.lalu mereka tidak kuasa membuat suatu wasiatpun dan tidak (pula) dapat kembali kepada keluarganya.        0.0\n",
            "16.Mereka tidak menunggu melainkan satu teriakan saja yang akan membinasakan mereka ketika mereka sedang bertengkar.        0.0\n",
            "17.Dan mereka berkata: \"Bilakah (terjadinya) janji ini (hari berbangkit) jika kamu adalah orang-orang yang benar?\".        0.0\n",
            "18.Dan apabila dikatakakan kepada mereka: \"Nafkahkanlah sebahagian dari reski yang diberikan Allah kepadamu\", maka orang-orang yang kafir itu berkata kepada orang-orang yang beriman: \"Apakah kami akan memberi makan kepada orang-orang yang jika Allah menghendaki tentulah Dia akan memberinya makan, tiadalah kamu melainkan dalam kesesatan yang nyata\".        0.0\n",
            "19.Dan sekali-kali tiada datang kepada mereka suatu tanda dari tanda tanda kekuasaan Tuhan mereka, melainkan mereka selalu berpaling daripadanya.        0.0\n",
            "20.Dan apabila dikatakan kepada mereka: \"Takutlah kamu akan siksa yang dihadapanmu dan siksa yang akan datang supaya kamu mendapat rahmat\", (niscaya mereka berpaling).        0.0\n"
          ],
          "name": "stdout"
        }
      ]
    },
    {
      "cell_type": "code",
      "metadata": {
        "id": "UBBLQdte3LgB",
        "colab_type": "code",
        "colab": {}
      },
      "source": [
        ""
      ],
      "execution_count": 12,
      "outputs": []
    }
  ]
}